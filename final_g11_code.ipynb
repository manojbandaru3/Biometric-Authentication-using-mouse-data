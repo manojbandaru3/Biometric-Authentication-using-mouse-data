{
  "nbformat": 4,
  "nbformat_minor": 0,
  "metadata": {
    "colab": {
      "name": "final.ipynb",
      "provenance": [],
      "collapsed_sections": []
    },
    "kernelspec": {
      "name": "python3",
      "display_name": "Python 3"
    }
  },
  "cells": [
    {
      "cell_type": "code",
      "metadata": {
        "id": "-Wm_Ci2fYuWT"
      },
      "source": [
        "from sklearn.neighbors import KNeighborsClassifier\n",
        "from sklearn.mixture import GaussianMixture\n",
        "from mlxtend.feature_selection import SequentialFeatureSelector as SFS\n",
        "import numpy as np\n",
        "import extractor\n",
        "import os\n",
        "import pickle\n",
        "from statistics import mean\n"
      ],
      "execution_count": 30,
      "outputs": []
    },
    {
      "cell_type": "code",
      "metadata": {
        "id": "lWuillWFbkcJ",
        "outputId": "d1112bf4-9ddb-4a64-b1e3-3f38cc4fcb3e",
        "colab": {
          "base_uri": "https://localhost:8080/"
        }
      },
      "source": [
        "from google.colab import drive\n",
        "drive.mount('/content/drive')"
      ],
      "execution_count": 3,
      "outputs": [
        {
          "output_type": "stream",
          "text": [
            "Mounted at /content/drive\n"
          ],
          "name": "stdout"
        }
      ]
    },
    {
      "cell_type": "code",
      "metadata": {
        "id": "LuHdDXpIb0I5"
      },
      "source": [
        "#features_extraction\n",
        "X_Rajesh= features(24,\"drive/My Drive/MIES_DATA/Rajesh/log\")\n",
        "X_Manoj= features(26,\"drive/My Drive/MIES_DATA/Manoj/\")\n",
        "X_Daiveek= features(18,\"drive/My Drive/MIES_DATA/Daiveek/\")\n",
        "X_Sudheer= features(26,\"drive/My Drive/MIES_DATA/Sudheer/log\")\n",
        "X_Vamsi= features(68,\"drive/My Drive/MIES_DATA/Vamsi/\")\n",
        "X_imposter=features(35,\"drive/My Drive/MIES_DATA/imposter/\")"
      ],
      "execution_count": null,
      "outputs": []
    },
    {
      "cell_type": "code",
      "metadata": {
        "id": "T8kRTJVafIEZ"
      },
      "source": [
        "#importing Data from pickle files since we have already extracted features and stored in .txt pickle files to save time\n",
        "pickle_off = open (\"drive/My Drive/MIES_DATA/rajesha.txt\", \"rb\")\n",
        "X_Rajesh= pickle.load(pickle_off)\n",
        "\n",
        "pickle_off = open (\"drive/My Drive/MIES_DATA/daiveeka.txt\", \"rb\")\n",
        "X_Daiveek = pickle.load(pickle_off)\n",
        "\n",
        "pickle_off = open (\"drive/My Drive/MIES_DATA/manoja.txt\", \"rb\")\n",
        "X_Manoj= pickle.load(pickle_off)\n",
        "\n",
        "pickle_off = open (\"drive/My Drive/MIES_DATA/sudheera.txt\", \"rb\")\n",
        "X_Sudheer = pickle.load(pickle_off)\n",
        "\n",
        "pickle_off = open (\"drive/My Drive/MIES_DATA/sudheera.txt\", \"rb\")\n",
        "X_Sudheer = pickle.load(pickle_off)\n",
        "\n",
        "pickle_off = open (\"drive/My Drive/MIES_DATA/vamsia.txt\", \"rb\")\n",
        "X_Vamsi= pickle.load(pickle_off)\n",
        "\n",
        "X_imposter=np.load('drive/My Drive/MIES_DATA/imposter.npy')"
      ],
      "execution_count": 6,
      "outputs": []
    },
    {
      "cell_type": "code",
      "metadata": {
        "id": "TMfNP9Pjfzn1",
        "outputId": "a9b681f7-43a5-480d-f596-768df11d3cb1",
        "colab": {
          "base_uri": "https://localhost:8080/"
        }
      },
      "source": [
        "#printing sizes of individual dataset\n",
        "print(X_Rajesh.shape)\n",
        "print(X_Daiveek.shape)\n",
        "print(X_Manoj.shape)\n",
        "print(X_Sudheer.shape)\n",
        "print(X_Vamsi.shape)\n",
        "print(X_imposter.shape)"
      ],
      "execution_count": 13,
      "outputs": [
        {
          "output_type": "stream",
          "text": [
            "(9092, 63)\n",
            "(813, 63)\n",
            "(19983, 63)\n",
            "(15313, 63)\n",
            "(15064, 63)\n",
            "(16554, 63)\n"
          ],
          "name": "stdout"
        }
      ]
    },
    {
      "cell_type": "code",
      "metadata": {
        "id": "qzh--s1ff8LE",
        "outputId": "5ad70404-ecae-44c4-b2b1-76cab1c89497",
        "colab": {
          "base_uri": "https://localhost:8080/"
        }
      },
      "source": [
        "#combining all the authenticated users into single variable and define corresponding y variables for imposter and authenticated users\n",
        "X_auth_final=np.concatenate((X_Rajesh,X_Manoj,X_Vamsi,X_Sudheer,X_Daiveek),axis = 0)\n",
        "X_imposter=X_imposter\n",
        "y_auth_final=np.zeros(len(X_auth_final))\n",
        "y_imposter=np.ones(len(X_imposter))\n",
        "print(X_auth_final.shape)\n",
        "print(y_auth_final.shape)\n",
        "print(X_imposter.shape)\n",
        "print(y_imposter.shape)"
      ],
      "execution_count": 14,
      "outputs": [
        {
          "output_type": "stream",
          "text": [
            "(60265, 63)\n",
            "(60265,)\n",
            "(16554, 63)\n",
            "(16554,)\n"
          ],
          "name": "stdout"
        }
      ]
    },
    {
      "cell_type": "code",
      "metadata": {
        "id": "pHXnCOCHgoYb",
        "outputId": "b3ba76e5-5056-4722-a05c-4bd40116d575",
        "colab": {
          "base_uri": "https://localhost:8080/"
        }
      },
      "source": [
        "#concatenate imposter and authenticated data for feature selection\n",
        "X=np.concatenate((X_auth_final,X_imposter),axis=0)\n",
        "y=np.concatenate((y_auth_final,y_imposter),axis=0)\n",
        "print(X.shape)\n",
        "print(y.shape)"
      ],
      "execution_count": 15,
      "outputs": [
        {
          "output_type": "stream",
          "text": [
            "(76819, 63)\n",
            "(76819,)\n"
          ],
          "name": "stdout"
        }
      ]
    },
    {
      "cell_type": "code",
      "metadata": {
        "id": "GK4Cn70ygr1Q"
      },
      "source": [
        "#using SFS technique for feature selection\n",
        "knn = KNeighborsClassifier(n_neighbors=63)\n",
        "sfs1 = SFS(knn,\n",
        "           k_features=5,\n",
        "           forward=True,\n",
        "           floating=False,\n",
        "           scoring='accuracy',\n",
        "           cv=4)"
      ],
      "execution_count": 86,
      "outputs": []
    },
    {
      "cell_type": "code",
      "metadata": {
        "id": "hsG2KvD7gyk0"
      },
      "source": [
        "#fitting X,y\n",
        "sfs1 = sfs1.fit(X, y)\n",
        "print(sfs1.k_feature_idx_)"
      ],
      "execution_count": null,
      "outputs": []
    },
    {
      "cell_type": "code",
      "metadata": {
        "id": "SWg-7b9myScP"
      },
      "source": [
        "#combining all data in to a variable with only selected features\n",
        "X=[X_Rajesh[:,(0,1,2,3,60)],X_Manoj[:,(0,1,2,3,60)],X_Vamsi[:,(0,1,2,3,60)],X_Sudheer[:,(0,1,2,3,60)],X_Daiveek[:,(0,1,2,3,60)],X_imposter[:,(0,1,2,3,60)]]"
      ],
      "execution_count": 37,
      "outputs": []
    },
    {
      "cell_type": "code",
      "metadata": {
        "id": "QU7EEPowhtjF"
      },
      "source": [
        "#partioning individual datasets in to 5 parts for each user \n",
        "Train_part1=[]\n",
        "Train_part2=[]\n",
        "Train_part3=[]\n",
        "Train_part4=[]\n",
        "Train_part5=[]\n",
        "for i in range(6):\n",
        "  Training_Data = X[i]\n",
        "  delta = int(Training_Data.shape[0]/5)\n",
        "  Train_part1.append(Training_Data[0:delta,:])\n",
        "  Train_part2.append(Training_Data[delta:2*delta,:])\n",
        "  Train_part3.append(Training_Data[2*delta:3*delta,:])\n",
        "  Train_part4.append(Training_Data[3*delta:4*delta,:])\n",
        "  Train_part5.append(Training_Data[4*delta:,:])\n"
      ],
      "execution_count": 38,
      "outputs": []
    },
    {
      "cell_type": "code",
      "metadata": {
        "id": "LD8Za3F1h2By",
        "outputId": "0f6dc3f7-f314-4458-f2bf-fabd58be30f3",
        "colab": {
          "base_uri": "https://localhost:8080/"
        }
      },
      "source": [
        "#Fold-1 cross Validation\n",
        "\n",
        "X_test=Train_part1\n",
        "X_train0=np.concatenate((Train_part2[0],Train_part3[0],Train_part4[0],Train_part5[0]),axis=0)\n",
        "X_train1=np.concatenate((Train_part2[1],Train_part3[1],Train_part4[1],Train_part5[1]),axis=0)\n",
        "X_train2=np.concatenate((Train_part2[2],Train_part3[2],Train_part4[2],Train_part5[2]),axis=0)\n",
        "X_train3=np.concatenate((Train_part2[3],Train_part3[3],Train_part4[3],Train_part5[3]),axis=0)\n",
        "X_train4=np.concatenate((Train_part2[4],Train_part3[4],Train_part4[4],Train_part5[4]),axis=0)\n",
        "X_train5=np.concatenate((Train_part2[5],Train_part3[5],Train_part4[5],Train_part5[5]),axis=0)\n",
        "X_train=np.concatenate((X_train0,X_train1,X_train2,X_train3,X_train4,X_train5),axis=0)\n",
        "gmm = GaussianMixture(n_components=2)\n",
        "gmm.fit(X_train)\n",
        "\n",
        "print(\"Training Accuracies\")\n",
        "labels_rajesh = gmm.predict(X_train0)\n",
        "a=np.bincount(labels_rajesh.astype(int))\n",
        "\n",
        "labels_manoj = gmm.predict(X_train1)\n",
        "b=np.bincount(labels_manoj.astype(int))\n",
        "\n",
        "labels_vamsi = gmm.predict(X_train2)\n",
        "c=np.bincount(labels_vamsi.astype(int))\n",
        "\n",
        "labels_sudheer = gmm.predict(X_train3)\n",
        "d=np.bincount(labels_sudheer.astype(int))\n",
        "\n",
        "labels_daiveek=gmm.predict(X_train4)\n",
        "e=np.bincount(labels_daiveek.astype(int))\n",
        "\n",
        "labels_imposter= gmm.predict(X_train5)\n",
        "f=np.bincount(labels_imposter.astype(int))\n",
        "\n",
        "x=[]\n",
        "x.append((np.max(a)/np.sum(a))*100)\n",
        "x.append((np.max(b)/np.sum(b))*100)\n",
        "x.append((np.max(c)/np.sum(c))*100)\n",
        "x.append((np.max(d)/np.sum(d))*100)\n",
        "x.append((np.max(e)/np.sum(e))*100)\n",
        "x.append((np.max(f)/np.sum(f))*100)\n",
        "\n",
        "print(a,x[0])\n",
        "print(b,x[1])\n",
        "print(c,x[2])\n",
        "print(d,x[3])\n",
        "print(e,x[4])\n",
        "print(f,x[5])\n",
        "print(\"average training accuracy:\",mean(x))\n",
        "print(\"end\")\n",
        "print()\n",
        "\n",
        "print(\"Test Accuracies\")\n",
        "labels_rajesh = gmm.predict(X_test[0])\n",
        "a=np.bincount(labels_rajesh.astype(int))\n",
        "\n",
        "labels_manoj = gmm.predict(X_test[1])\n",
        "b=np.bincount(labels_manoj.astype(int))\n",
        "\n",
        "labels_vamsi = gmm.predict(X_test[2])\n",
        "c=np.bincount(labels_vamsi.astype(int))\n",
        "\n",
        "labels_sudheer = gmm.predict(X_test[3])\n",
        "d=np.bincount(labels_sudheer.astype(int))\n",
        "\n",
        "labels_daiveek=gmm.predict(X_test[4])\n",
        "e=np.bincount(labels_daiveek.astype(int))\n",
        "\n",
        "labels_imposter= gmm.predict(X_test[5])\n",
        "f=np.bincount(labels_imposter.astype(int))\n",
        "\n",
        "x=[]\n",
        "x.append((np.max(a)/np.sum(a))*100)\n",
        "x.append((np.max(b)/np.sum(b))*100)\n",
        "x.append((np.max(c)/np.sum(c))*100)\n",
        "x.append((np.max(d)/np.sum(d))*100)\n",
        "x.append((np.max(e)/np.sum(e))*100)\n",
        "x.append((np.max(f)/np.sum(f))*100)\n",
        "\n",
        "print(a,x[0])\n",
        "print(b,x[1])\n",
        "print(c,x[2])\n",
        "print(d,x[3])\n",
        "print(e,x[4])\n",
        "print(f,x[5])\n",
        "print(\"average test accuracy:\",mean(x))\n",
        "print(\"end\")\n",
        "    "
      ],
      "execution_count": 39,
      "outputs": [
        {
          "output_type": "stream",
          "text": [
            "Training Accuracies\n",
            "[7263   11] 99.84877646411879\n",
            "[15987] 100.0\n",
            "[12048     4] 99.96681048788582\n",
            "[12243     8] 99.9346992082279\n",
            "[521 130] 80.03072196620585\n",
            "[    0 13244] 100.0\n",
            "average training accuracy: 96.63016802107306\n",
            "end\n",
            "\n",
            "Test Accuracies\n",
            "[1817    1] 99.94499449944995\n",
            "[3996] 100.0\n",
            "[3009    3] 99.9003984063745\n",
            "[3060    2] 99.9346832135859\n",
            "[120  42] 74.07407407407408\n",
            "[ 401 2909] 87.88519637462235\n",
            "average test accuracy: 93.62322442801779\n",
            "end\n"
          ],
          "name": "stdout"
        }
      ]
    },
    {
      "cell_type": "code",
      "metadata": {
        "id": "mY67l6LJh7MT",
        "outputId": "64fe3ddf-abae-4b73-84fb-d1061424c51a",
        "colab": {
          "base_uri": "https://localhost:8080/"
        }
      },
      "source": [
        "#Fold-2 cross validation\n",
        "\n",
        "X_test=Train_part2\n",
        "X_train0=np.concatenate((Train_part1[0],Train_part3[0],Train_part4[0],Train_part5[0]),axis=0)\n",
        "X_train1=np.concatenate((Train_part1[1],Train_part3[1],Train_part4[1],Train_part5[1]),axis=0)\n",
        "X_train2=np.concatenate((Train_part1[2],Train_part3[2],Train_part4[2],Train_part5[2]),axis=0)\n",
        "X_train3=np.concatenate((Train_part1[3],Train_part3[3],Train_part4[3],Train_part5[3]),axis=0)\n",
        "X_train4=np.concatenate((Train_part1[4],Train_part3[4],Train_part4[4],Train_part5[4]),axis=0)\n",
        "X_train5=np.concatenate((Train_part1[5],Train_part3[5],Train_part4[5],Train_part5[5]),axis=0)\n",
        "X_train=np.concatenate((X_train0,X_train1,X_train2,X_train3,X_train4,X_train5),axis=0)\n",
        "gmm = GaussianMixture(n_components=2)\n",
        "gmm.fit(X_train)\n",
        "\n",
        "print(\"Training Accuracies\")\n",
        "labels_rajesh = gmm.predict(X_train0)\n",
        "a=np.bincount(labels_rajesh.astype(int))\n",
        "\n",
        "labels_manoj = gmm.predict(X_train1)\n",
        "b=np.bincount(labels_manoj.astype(int))\n",
        "\n",
        "labels_vamsi = gmm.predict(X_train2)\n",
        "c=np.bincount(labels_vamsi.astype(int))\n",
        "\n",
        "labels_sudheer = gmm.predict(X_train3)\n",
        "d=np.bincount(labels_sudheer.astype(int))\n",
        "\n",
        "labels_daiveek=gmm.predict(X_train4)\n",
        "e=np.bincount(labels_daiveek.astype(int))\n",
        "\n",
        "labels_imposter= gmm.predict(X_train5)\n",
        "f=np.bincount(labels_imposter.astype(int))\n",
        "\n",
        "x=[]\n",
        "x.append((np.max(a)/np.sum(a))*100)\n",
        "x.append((np.max(b)/np.sum(b))*100)\n",
        "x.append((np.max(c)/np.sum(c))*100)\n",
        "x.append((np.max(d)/np.sum(d))*100)\n",
        "x.append((np.max(e)/np.sum(e))*100)\n",
        "x.append((np.max(f)/np.sum(f))*100)\n",
        "\n",
        "print(a,x[0])\n",
        "print(b,x[1])\n",
        "print(c,x[2])\n",
        "print(d,x[3])\n",
        "print(e,x[4])\n",
        "print(f,x[5])\n",
        "print(\"average training accuracy:\",mean(x))\n",
        "print(\"end\")\n",
        "print()\n",
        "\n",
        "print(\"Test Accuracies\")\n",
        "labels_rajesh = gmm.predict(X_test[0])\n",
        "a=np.bincount(labels_rajesh.astype(int))\n",
        "\n",
        "labels_manoj = gmm.predict(X_test[1])\n",
        "b=np.bincount(labels_manoj.astype(int))\n",
        "\n",
        "labels_vamsi = gmm.predict(X_test[2])\n",
        "c=np.bincount(labels_vamsi.astype(int))\n",
        "\n",
        "labels_sudheer = gmm.predict(X_test[3])\n",
        "d=np.bincount(labels_sudheer.astype(int))\n",
        "\n",
        "labels_daiveek=gmm.predict(X_test[4])\n",
        "e=np.bincount(labels_daiveek.astype(int))\n",
        "\n",
        "labels_imposter= gmm.predict(X_test[5])\n",
        "f=np.bincount(labels_imposter.astype(int))\n",
        "\n",
        "x=[]\n",
        "x.append((np.max(a)/np.sum(a))*100)\n",
        "x.append((np.max(b)/np.sum(b))*100)\n",
        "x.append((np.max(c)/np.sum(c))*100)\n",
        "x.append((np.max(d)/np.sum(d))*100)\n",
        "x.append((np.max(e)/np.sum(e))*100)\n",
        "x.append((np.max(f)/np.sum(f))*100)\n",
        "\n",
        "print(a,x[0])\n",
        "print(b,x[1])\n",
        "print(c,x[2])\n",
        "print(d,x[3])\n",
        "print(e,x[4])\n",
        "print(f,x[5])\n",
        "print(\"average test accuracy:\",mean(x))\n",
        "print(\"end\")\n",
        "    "
      ],
      "execution_count": 40,
      "outputs": [
        {
          "output_type": "stream",
          "text": [
            "Training Accuracies\n",
            "[  19 7255] 99.73879571075062\n",
            "[    0 15987] 100.0\n",
            "[    8 12044] 99.93362097577165\n",
            "[   10 12241] 99.91837401028488\n",
            "[168 483] 74.19354838709677\n",
            "[12844   400] 96.97976442162489\n",
            "average training accuracy: 95.1273505842548\n",
            "end\n",
            "\n",
            "Test Accuracies\n",
            "[   7 1811] 99.61496149614962\n",
            "[   0 3996] 100.0\n",
            "[   1 3011] 99.9667994687915\n",
            "[   3 3059] 99.90202482037883\n",
            "[ 26 136] 83.9506172839506\n",
            "[3310] 100.0\n",
            "average test accuracy: 97.23906717821176\n",
            "end\n"
          ],
          "name": "stdout"
        }
      ]
    },
    {
      "cell_type": "code",
      "metadata": {
        "id": "lQqBtqx6h_im",
        "outputId": "15b70715-9886-47de-b8c6-547897cd479e",
        "colab": {
          "base_uri": "https://localhost:8080/"
        }
      },
      "source": [
        "#Fold-3 cross validation\n",
        "\n",
        "X_test=Train_part3\n",
        "X_train0=np.concatenate((Train_part1[0],Train_part2[0],Train_part4[0],Train_part5[0]),axis=0)\n",
        "X_train1=np.concatenate((Train_part1[1],Train_part2[1],Train_part4[1],Train_part5[1]),axis=0)\n",
        "X_train2=np.concatenate((Train_part1[2],Train_part2[2],Train_part4[2],Train_part5[2]),axis=0)\n",
        "X_train3=np.concatenate((Train_part1[3],Train_part2[3],Train_part4[3],Train_part5[3]),axis=0)\n",
        "X_train4=np.concatenate((Train_part1[4],Train_part2[4],Train_part4[4],Train_part5[4]),axis=0)\n",
        "X_train5=np.concatenate((Train_part1[5],Train_part2[5],Train_part4[5],Train_part5[5]),axis=0)\n",
        "X_train=np.concatenate((X_train0,X_train1,X_train2,X_train3,X_train4,X_train5),axis=0)\n",
        "gmm = GaussianMixture(n_components=2)\n",
        "gmm.fit(X_train)\n",
        "\n",
        "print(\"Training Accuracies\")\n",
        "labels_rajesh = gmm.predict(X_train0)\n",
        "a=np.bincount(labels_rajesh.astype(int))\n",
        "\n",
        "labels_manoj = gmm.predict(X_train1)\n",
        "b=np.bincount(labels_manoj.astype(int))\n",
        "\n",
        "labels_vamsi = gmm.predict(X_train2)\n",
        "c=np.bincount(labels_vamsi.astype(int))\n",
        "\n",
        "labels_sudheer = gmm.predict(X_train3)\n",
        "d=np.bincount(labels_sudheer.astype(int))\n",
        "\n",
        "labels_daiveek=gmm.predict(X_train4)\n",
        "e=np.bincount(labels_daiveek.astype(int))\n",
        "\n",
        "labels_imposter= gmm.predict(X_train5)\n",
        "f=np.bincount(labels_imposter.astype(int))\n",
        "\n",
        "x=[]\n",
        "x.append((np.max(a)/np.sum(a))*100)\n",
        "x.append((np.max(b)/np.sum(b))*100)\n",
        "x.append((np.max(c)/np.sum(c))*100)\n",
        "x.append((np.max(d)/np.sum(d))*100)\n",
        "x.append((np.max(e)/np.sum(e))*100)\n",
        "x.append((np.max(f)/np.sum(f))*100)\n",
        "\n",
        "print(a,x[0])\n",
        "print(b,x[1])\n",
        "print(c,x[2])\n",
        "print(d,x[3])\n",
        "print(e,x[4])\n",
        "print(f,x[5])\n",
        "print(\"average training accuracy:\",mean(x))\n",
        "print(\"end\")\n",
        "print()\n",
        "\n",
        "print(\"Test Accuracies\")\n",
        "labels_rajesh = gmm.predict(X_test[0])\n",
        "a=np.bincount(labels_rajesh.astype(int))\n",
        "\n",
        "labels_manoj = gmm.predict(X_test[1])\n",
        "b=np.bincount(labels_manoj.astype(int))\n",
        "\n",
        "labels_vamsi = gmm.predict(X_test[2])\n",
        "c=np.bincount(labels_vamsi.astype(int))\n",
        "\n",
        "labels_sudheer = gmm.predict(X_test[3])\n",
        "d=np.bincount(labels_sudheer.astype(int))\n",
        "\n",
        "labels_daiveek=gmm.predict(X_test[4])\n",
        "e=np.bincount(labels_daiveek.astype(int))\n",
        "\n",
        "labels_imposter= gmm.predict(X_test[5])\n",
        "f=np.bincount(labels_imposter.astype(int))\n",
        "\n",
        "x=[]\n",
        "x.append((np.max(a)/np.sum(a))*100)\n",
        "x.append((np.max(b)/np.sum(b))*100)\n",
        "x.append((np.max(c)/np.sum(c))*100)\n",
        "x.append((np.max(d)/np.sum(d))*100)\n",
        "x.append((np.max(e)/np.sum(e))*100)\n",
        "x.append((np.max(f)/np.sum(f))*100)\n",
        "\n",
        "print(a,x[0])\n",
        "print(b,x[1])\n",
        "print(c,x[2])\n",
        "print(d,x[3])\n",
        "print(e,x[4])\n",
        "print(f,x[5])\n",
        "print(\"average test accuracy:\",mean(x))\n",
        "print(\"end\")\n",
        "    "
      ],
      "execution_count": 41,
      "outputs": [
        {
          "output_type": "stream",
          "text": [
            "Training Accuracies\n",
            "[7236   38] 99.47759142150123\n",
            "[15987] 100.0\n",
            "[12044     8] 99.93362097577165\n",
            "[12236    15] 99.8775610154273\n",
            "[490 161] 75.26881720430107\n",
            "[  400 12844] 96.97976442162489\n",
            "average training accuracy: 95.25622583977102\n",
            "end\n",
            "\n",
            "Test Accuracies\n",
            "[1811    7] 99.61496149614962\n",
            "[3996] 100.0\n",
            "[3009    3] 99.9003984063745\n",
            "[3060    2] 99.9346832135859\n",
            "[126  36] 77.77777777777779\n",
            "[   0 3310] 100.0\n",
            "average test accuracy: 96.20463681564797\n",
            "end\n"
          ],
          "name": "stdout"
        }
      ]
    },
    {
      "cell_type": "code",
      "metadata": {
        "id": "nc2i79s-fnLM",
        "outputId": "9c48a321-bcba-4dfd-9af6-570a5bc612cd",
        "colab": {
          "base_uri": "https://localhost:8080/"
        }
      },
      "source": [
        "#Fold-4 cross validation\n",
        "\n",
        "X_test=Train_part4\n",
        "X_train0=np.concatenate((Train_part1[0],Train_part2[0],Train_part3[0],Train_part5[0]),axis=0)\n",
        "X_train1=np.concatenate((Train_part1[1],Train_part2[1],Train_part3[1],Train_part5[1]),axis=0)\n",
        "X_train2=np.concatenate((Train_part1[2],Train_part2[2],Train_part3[2],Train_part5[2]),axis=0)\n",
        "X_train3=np.concatenate((Train_part1[3],Train_part2[3],Train_part3[3],Train_part5[3]),axis=0)\n",
        "X_train4=np.concatenate((Train_part1[4],Train_part2[4],Train_part3[4],Train_part5[4]),axis=0)\n",
        "X_train5=np.concatenate((Train_part1[5],Train_part2[5],Train_part3[5],Train_part5[5]),axis=0)\n",
        "X_train=np.concatenate((X_train0,X_train1,X_train2,X_train3,X_train4,X_train5),axis=0)\n",
        "gmm = GaussianMixture(n_components=2)\n",
        "gmm.fit(X_train)\n",
        "\n",
        "print(\"Training Accuracies\")\n",
        "labels_rajesh = gmm.predict(X_train0)\n",
        "a=np.bincount(labels_rajesh.astype(int))\n",
        "\n",
        "labels_manoj = gmm.predict(X_train1)\n",
        "b=np.bincount(labels_manoj.astype(int))\n",
        "\n",
        "labels_vamsi = gmm.predict(X_train2)\n",
        "c=np.bincount(labels_vamsi.astype(int))\n",
        "\n",
        "labels_sudheer = gmm.predict(X_train3)\n",
        "d=np.bincount(labels_sudheer.astype(int))\n",
        "\n",
        "labels_daiveek=gmm.predict(X_train4)\n",
        "e=np.bincount(labels_daiveek.astype(int))\n",
        "\n",
        "labels_imposter= gmm.predict(X_train5)\n",
        "f=np.bincount(labels_imposter.astype(int))\n",
        "\n",
        "x=[]\n",
        "x.append((np.max(a)/np.sum(a))*100)\n",
        "x.append((np.max(b)/np.sum(b))*100)\n",
        "x.append((np.max(c)/np.sum(c))*100)\n",
        "x.append((np.max(d)/np.sum(d))*100)\n",
        "x.append((np.max(e)/np.sum(e))*100)\n",
        "x.append((np.max(f)/np.sum(f))*100)\n",
        "\n",
        "print(a,x[0])\n",
        "print(b,x[1])\n",
        "print(c,x[2])\n",
        "print(d,x[3])\n",
        "print(e,x[4])\n",
        "print(f,x[5])\n",
        "print(\"average training accuracy:\",mean(x))\n",
        "print(\"end\")\n",
        "print()\n",
        "\n",
        "print(\"Test Accuracies\")\n",
        "labels_rajesh = gmm.predict(X_test[0])\n",
        "a=np.bincount(labels_rajesh.astype(int))\n",
        "\n",
        "labels_manoj = gmm.predict(X_test[1])\n",
        "b=np.bincount(labels_manoj.astype(int))\n",
        "\n",
        "labels_vamsi = gmm.predict(X_test[2])\n",
        "c=np.bincount(labels_vamsi.astype(int))\n",
        "\n",
        "labels_sudheer = gmm.predict(X_test[3])\n",
        "d=np.bincount(labels_sudheer.astype(int))\n",
        "\n",
        "labels_daiveek=gmm.predict(X_test[4])\n",
        "e=np.bincount(labels_daiveek.astype(int))\n",
        "\n",
        "labels_imposter= gmm.predict(X_test[5])\n",
        "f=np.bincount(labels_imposter.astype(int))\n",
        "\n",
        "x=[]\n",
        "x.append((np.max(a)/np.sum(a))*100)\n",
        "x.append((np.max(b)/np.sum(b))*100)\n",
        "x.append((np.max(c)/np.sum(c))*100)\n",
        "x.append((np.max(d)/np.sum(d))*100)\n",
        "x.append((np.max(e)/np.sum(e))*100)\n",
        "x.append((np.max(f)/np.sum(f))*100)\n",
        "\n",
        "print(a,x[0])\n",
        "print(b,x[1])\n",
        "print(c,x[2])\n",
        "print(d,x[3])\n",
        "print(e,x[4])\n",
        "print(f,x[5])\n",
        "print(\"average test accuracy:\",mean(x))\n",
        "print(\"end\")\n",
        "    "
      ],
      "execution_count": 42,
      "outputs": [
        {
          "output_type": "stream",
          "text": [
            "Training Accuracies\n",
            "[7250   24] 99.67005773989553\n",
            "[15987] 100.0\n",
            "[12044     8] 99.93362097577165\n",
            "[12237    14] 99.88572361439883\n",
            "[506 145] 77.72657450076805\n",
            "[  400 12844] 96.97976442162489\n",
            "average training accuracy: 95.69929020874315\n",
            "end\n",
            "\n",
            "Test Accuracies\n",
            "[1813    5] 99.72497249724972\n",
            "[3996] 100.0\n",
            "[3010    2] 99.933598937583\n",
            "[3058    4] 99.86936642717178\n",
            "[115  47] 70.98765432098766\n",
            "[   0 3310] 100.0\n",
            "average test accuracy: 95.0859320304987\n",
            "end\n"
          ],
          "name": "stdout"
        }
      ]
    },
    {
      "cell_type": "code",
      "metadata": {
        "id": "FPX5-f03fEbK",
        "outputId": "dbe6f85f-1469-4a31-eb42-c56c9846f826",
        "colab": {
          "base_uri": "https://localhost:8080/"
        }
      },
      "source": [
        "#Fold-5 cross validation\n",
        "\n",
        "X_test=Train_part5\n",
        "X_train0=np.concatenate((Train_part1[0],Train_part2[0],Train_part3[0],Train_part4[0]),axis=0)\n",
        "X_train1=np.concatenate((Train_part1[1],Train_part2[1],Train_part3[1],Train_part4[1]),axis=0)\n",
        "X_train2=np.concatenate((Train_part1[2],Train_part2[2],Train_part3[2],Train_part4[2]),axis=0)\n",
        "X_train3=np.concatenate((Train_part1[3],Train_part2[3],Train_part3[3],Train_part4[3]),axis=0)\n",
        "X_train4=np.concatenate((Train_part1[4],Train_part2[4],Train_part3[4],Train_part4[4]),axis=0)\n",
        "X_train5=np.concatenate((Train_part1[5],Train_part2[5],Train_part3[5],Train_part4[5]),axis=0)\n",
        "X_train=np.concatenate((X_train0,X_train1,X_train2,X_train3,X_train4,X_train5),axis=0)\n",
        "gmm = GaussianMixture(n_components=2)\n",
        "gmm.fit(X_train)\n",
        "\n",
        "print(\"Training Accuracies\")\n",
        "labels_rajesh = gmm.predict(X_train0)\n",
        "a=np.bincount(labels_rajesh.astype(int))\n",
        "\n",
        "labels_manoj = gmm.predict(X_train1)\n",
        "b=np.bincount(labels_manoj.astype(int))\n",
        "\n",
        "labels_vamsi = gmm.predict(X_train2)\n",
        "c=np.bincount(labels_vamsi.astype(int))\n",
        "\n",
        "labels_sudheer = gmm.predict(X_train3)\n",
        "d=np.bincount(labels_sudheer.astype(int))\n",
        "\n",
        "labels_daiveek=gmm.predict(X_train4)\n",
        "e=np.bincount(labels_daiveek.astype(int))\n",
        "\n",
        "labels_imposter= gmm.predict(X_train5)\n",
        "f=np.bincount(labels_imposter.astype(int))\n",
        "\n",
        "x=[]\n",
        "x.append((np.max(a)/np.sum(a))*100)\n",
        "x.append((np.max(b)/np.sum(b))*100)\n",
        "x.append((np.max(c)/np.sum(c))*100)\n",
        "x.append((np.max(d)/np.sum(d))*100)\n",
        "x.append((np.max(e)/np.sum(e))*100)\n",
        "x.append((np.max(f)/np.sum(f))*100)\n",
        "\n",
        "print(a,x[0])\n",
        "print(b,x[1])\n",
        "print(c,x[2])\n",
        "print(d,x[3])\n",
        "print(e,x[4])\n",
        "print(f,x[5])\n",
        "print(\"average training accuracy:\",mean(x))\n",
        "print(\"end\")\n",
        "print()\n",
        "\n",
        "print(\"Test Accuracies\")\n",
        "labels_rajesh = gmm.predict(X_test[0])\n",
        "a=np.bincount(labels_rajesh.astype(int))\n",
        "\n",
        "labels_manoj = gmm.predict(X_test[1])\n",
        "b=np.bincount(labels_manoj.astype(int))\n",
        "\n",
        "labels_vamsi = gmm.predict(X_test[2])\n",
        "c=np.bincount(labels_vamsi.astype(int))\n",
        "\n",
        "labels_sudheer = gmm.predict(X_test[3])\n",
        "d=np.bincount(labels_sudheer.astype(int))\n",
        "\n",
        "labels_daiveek=gmm.predict(X_test[4])\n",
        "e=np.bincount(labels_daiveek.astype(int))\n",
        "\n",
        "labels_imposter= gmm.predict(X_test[5])\n",
        "f=np.bincount(labels_imposter.astype(int))\n",
        "\n",
        "x=[]\n",
        "x.append((np.max(a)/np.sum(a))*100)\n",
        "x.append((np.max(b)/np.sum(b))*100)\n",
        "x.append((np.max(c)/np.sum(c))*100)\n",
        "x.append((np.max(d)/np.sum(d))*100)\n",
        "x.append((np.max(e)/np.sum(e))*100)\n",
        "x.append((np.max(f)/np.sum(f))*100)\n",
        "\n",
        "print(a,x[0])\n",
        "print(b,x[1])\n",
        "print(c,x[2])\n",
        "print(d,x[3])\n",
        "print(e,x[4])\n",
        "print(f,x[5])\n",
        "print(\"average test accuracy:\",mean(x))\n",
        "print(\"end\")\n",
        "    "
      ],
      "execution_count": 43,
      "outputs": [
        {
          "output_type": "stream",
          "text": [
            "Training Accuracies\n",
            "[   5 7267] 99.93124312431243\n",
            "[    0 15984] 100.0\n",
            "[    6 12042] 99.95019920318725\n",
            "[    9 12239] 99.92651861528414\n",
            "[ 78 570] 87.96296296296296\n",
            "[12839   401] 96.97129909365559\n",
            "average training accuracy: 97.45703716656706\n",
            "end\n",
            "\n",
            "Test Accuracies\n",
            "[   3 1817] 99.83516483516483\n",
            "[   0 3999] 100.0\n",
            "[   1 3015] 99.96684350132627\n",
            "[ 527 2538] 82.80587275693311\n",
            "[ 30 135] 81.81818181818183\n",
            "[3314] 100.0\n",
            "average test accuracy: 94.07101048526768\n",
            "end\n"
          ],
          "name": "stdout"
        }
      ]
    },
    {
      "cell_type": "code",
      "metadata": {
        "id": "hKWjCHUOiL5s"
      },
      "source": [
        ""
      ],
      "execution_count": null,
      "outputs": []
    },
    {
      "cell_type": "code",
      "metadata": {
        "id": "PN6y3XcwiL9a"
      },
      "source": [
        ""
      ],
      "execution_count": null,
      "outputs": []
    }
  ]
}